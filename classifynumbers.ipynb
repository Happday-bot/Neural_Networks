{
  "cells": [
    {
      "cell_type": "code",
      "execution_count": 1,
      "metadata": {
        "id": "FP9DTqm3JLcR"
      },
      "outputs": [],
      "source": [
        "import tensorflow as tf\n",
        "import numpy as np"
      ]
    },
    {
      "cell_type": "markdown",
      "metadata": {
        "id": "InJ65kZikeQ0"
      },
      "source": [
        "# **DEFINING THE REQUIREMENTS**"
      ]
    },
    {
      "cell_type": "code",
      "execution_count": null,
      "metadata": {
        "id": "qnrjiSxwMV4c"
      },
      "outputs": [],
      "source": [
        "n_layers = 5\n",
        "epoch = 6\n",
        "w_input = [36,500,500,150,50]\n",
        "w_output = [500,500,150,50,3]\n",
        "b_input = [36,500,150,50,3]\n",
        "b_output = [500,500,150,50,3]\n",
        "\n",
        "W=[]\n",
        "B=[]"
      ]
    },
    {
      "cell_type": "markdown",
      "metadata": {
        "id": "pztkTMPKknKk"
      },
      "source": [
        "# **CREATING MY NETWORK**"
      ]
    },
    {
      "cell_type": "code",
      "execution_count": null,
      "metadata": {
        "id": "IvGbH_DlJOwL"
      },
      "outputs": [],
      "source": [
        "def create_network(n_layers,W,B,w_input,w_output,b_input,b_output):\n",
        "  for i in range(n_layers):\n",
        "    # weight initialisation\n",
        "\n",
        "    # Define matrix size\n",
        "    n_in = w_input[i]\n",
        "    n_out = w_output[i]\n",
        "\n",
        "    # Calculate the range for Xavier initialization\n",
        "    limit = np.sqrt(6) / np.sqrt(n_in + n_out)\n",
        "\n",
        "    W.append(tf.random.uniform((n_in, n_out), minval=-limit, maxval=limit))\n",
        "\n",
        "    # bias initialisation\n",
        "\n",
        "    # Define matrix size\n",
        "    n_in = b_input[i]\n",
        "    n_out = b_output[i]\n",
        "\n",
        "    # Calculate the range for Xavier initialization\n",
        "    limit = np.sqrt(6) / np.sqrt(n_in + n_out)\n",
        "\n",
        "    B.append(tf.random.uniform((1, n_out), minval=-limit, maxval=limit))"
      ]
    },
    {
      "cell_type": "markdown",
      "metadata": {
        "id": "TcbB3ms3kwVk"
      },
      "source": [
        "# **THE INPUT DEFINING SECTION**"
      ]
    },
    {
      "cell_type": "code",
      "execution_count": null,
      "metadata": {
        "id": "FFxHfoJGmpn8"
      },
      "outputs": [],
      "source": [
        "one = [ [0,0,1,1,0,0],\n",
        "        [0,1,1,1,0,0],\n",
        "        [0,0,1,1,0,0],\n",
        "        [0,0,1,1,0,0],\n",
        "        [0,0,1,1,0,0],\n",
        "        [1,1,1,1,1,1]\n",
        "      ]\n",
        "\n",
        "two = [ [0,0,1,1,0,0],\n",
        "        [0,1,0,0,1,0],\n",
        "        [0,0,0,0,1,0],\n",
        "        [0,0,0,1,0,0],\n",
        "        [0,0,1,0,0,0],\n",
        "        [0,1,1,1,1,1]\n",
        "      ]\n",
        "\n",
        "three = [ [1,1,1,1,1,0],\n",
        "          [0,0,0,0,0,1],\n",
        "          [0,0,0,1,1,0],\n",
        "          [0,0,0,1,1,0],\n",
        "          [0,0,0,0,0,1],\n",
        "          [1,1,1,1,1,0]\n",
        "        ]\n",
        "\n",
        "actual_output = [1,0,0]\n",
        "\n",
        "actual_input = [np.ravel(one)]"
      ]
    },
    {
      "cell_type": "markdown",
      "metadata": {
        "id": "7penG72AE9kO"
      },
      "source": [
        "# **THE MAIN BLOCK**"
      ]
    },
    {
      "cell_type": "code",
      "execution_count": null,
      "metadata": {
        "id": "-4fP462TFEiw"
      },
      "outputs": [],
      "source": [
        "create_network(n_layers,W,B,w_input,w_output,b_input,b_output)"
      ]
    },
    {
      "cell_type": "code",
      "execution_count": null,
      "metadata": {
        "colab": {
          "base_uri": "https://localhost:8080/"
        },
        "id": "QGrklZSpFFUP",
        "outputId": "1b903fe2-7e7e-48e1-bf88-f6a09c63f857"
      },
      "outputs": [
        {
          "output_type": "stream",
          "name": "stdout",
          "text": [
            "PAssed layer : 0\n",
            "PAssed layer : 1\n",
            "PAssed layer : 2\n",
            "PAssed layer : 3\n",
            "PAssed layer : 4\n"
          ]
        }
      ],
      "source": [
        "output = []\n",
        "send_input(actual_input,W,B,n_layers)"
      ]
    },
    {
      "cell_type": "code",
      "execution_count": null,
      "metadata": {
        "colab": {
          "base_uri": "https://localhost:8080/"
        },
        "id": "MOJZakXcFFzJ",
        "outputId": "a6eed8ac-c7d5-487e-a134-13e5ceebc2cf"
      },
      "outputs": [
        {
          "output_type": "stream",
          "name": "stdout",
          "text": [
            "THE LAYER: 4 Moving to shape : (1, 50)\n",
            "THE LAYER: 3 Moving to shape : (1, 150)\n",
            "THE LAYER: 2 Moving to shape : (1, 500)\n",
            "THE LAYER: 1 Moving to shape : (1, 500)\n"
          ]
        }
      ],
      "source": [
        "learning_rate = 1\n",
        "backward_pass(actual_output,output[n_layers-1],output,W,B,n_layers-1,learning_rate)"
      ]
    },
    {
      "cell_type": "code",
      "execution_count": null,
      "metadata": {
        "colab": {
          "base_uri": "https://localhost:8080/"
        },
        "id": "qaWTb0fGFSbG",
        "outputId": "44fdbd68-2853-401d-a2e4-044acbc290fe"
      },
      "outputs": [
        {
          "output_type": "execute_result",
          "data": {
            "text/plain": [
              "<tf.Tensor: shape=(1, 3), dtype=float64, numpy=array([[0.82980364, 0.        , 0.08744906]])>"
            ]
          },
          "metadata": {},
          "execution_count": 112
        }
      ],
      "source": [
        "pred_output = []\n",
        "predit(actual_input,W,B,n_layers)"
      ]
    },
    {
      "cell_type": "code",
      "execution_count": null,
      "metadata": {
        "colab": {
          "base_uri": "https://localhost:8080/"
        },
        "id": "U-ECpFW6UXJL",
        "outputId": "c5dbf19c-3a20-4ab7-8f03-a5825768f9c2"
      },
      "outputs": [
        {
          "output_type": "stream",
          "name": "stdout",
          "text": [
            "PAssed layer : 0\n",
            "PAssed layer : 1\n",
            "PAssed layer : 2\n",
            "PAssed layer : 3\n",
            "PAssed layer : 4\n",
            "THE LAYER: 4 Moving to shape : (1, 50)\n",
            "THE LAYER: 3 Moving to shape : (1, 150)\n",
            "THE LAYER: 2 Moving to shape : (1, 500)\n",
            "THE LAYER: 1 Moving to shape : (1, 500)\n",
            "tf.Tensor([[0.63507037 0.         0.16127861]], shape=(1, 3), dtype=float64)\n",
            "PAssed layer : 0\n",
            "PAssed layer : 1\n",
            "PAssed layer : 2\n",
            "PAssed layer : 3\n",
            "PAssed layer : 4\n",
            "THE LAYER: 4 Moving to shape : (1, 50)\n",
            "THE LAYER: 3 Moving to shape : (1, 150)\n",
            "THE LAYER: 2 Moving to shape : (1, 500)\n",
            "THE LAYER: 1 Moving to shape : (1, 500)\n",
            "tf.Tensor([[0.70629744 0.         0.13274087]], shape=(1, 3), dtype=float64)\n",
            "PAssed layer : 0\n",
            "PAssed layer : 1\n",
            "PAssed layer : 2\n",
            "PAssed layer : 3\n",
            "PAssed layer : 4\n",
            "THE LAYER: 4 Moving to shape : (1, 50)\n",
            "THE LAYER: 3 Moving to shape : (1, 150)\n",
            "THE LAYER: 2 Moving to shape : (1, 500)\n",
            "THE LAYER: 1 Moving to shape : (1, 500)\n",
            "tf.Tensor([[0.75385871 0.         0.11521049]], shape=(1, 3), dtype=float64)\n",
            "PAssed layer : 0\n",
            "PAssed layer : 1\n",
            "PAssed layer : 2\n",
            "PAssed layer : 3\n",
            "PAssed layer : 4\n",
            "THE LAYER: 4 Moving to shape : (1, 50)\n",
            "THE LAYER: 3 Moving to shape : (1, 150)\n",
            "THE LAYER: 2 Moving to shape : (1, 500)\n",
            "THE LAYER: 1 Moving to shape : (1, 500)\n",
            "tf.Tensor([[0.78815474 0.         0.10308074]], shape=(1, 3), dtype=float64)\n",
            "PAssed layer : 0\n",
            "PAssed layer : 1\n",
            "PAssed layer : 2\n",
            "PAssed layer : 3\n",
            "PAssed layer : 4\n",
            "THE LAYER: 4 Moving to shape : (1, 50)\n",
            "THE LAYER: 3 Moving to shape : (1, 150)\n",
            "THE LAYER: 2 Moving to shape : (1, 500)\n",
            "THE LAYER: 1 Moving to shape : (1, 500)\n",
            "tf.Tensor([[0.81231345 0.         0.09416121]], shape=(1, 3), dtype=float64)\n",
            "PAssed layer : 0\n",
            "PAssed layer : 1\n",
            "PAssed layer : 2\n",
            "PAssed layer : 3\n",
            "PAssed layer : 4\n",
            "THE LAYER: 4 Moving to shape : (1, 50)\n",
            "THE LAYER: 3 Moving to shape : (1, 150)\n",
            "THE LAYER: 2 Moving to shape : (1, 500)\n",
            "THE LAYER: 1 Moving to shape : (1, 500)\n",
            "tf.Tensor([[0.82980364 0.         0.08744906]], shape=(1, 3), dtype=float64)\n"
          ]
        }
      ],
      "source": [
        "for i in range(epoch):\n",
        "  output = []\n",
        "  send_input(actual_input,W,B,n_layers)\n",
        "  learning_rate = 1\n",
        "  backward_pass(actual_output,output[n_layers-1],output,W,B,n_layers-1,learning_rate)\n",
        "  pred_output = []\n",
        "  print(predit(actual_input,W,B,n_layers))"
      ]
    },
    {
      "cell_type": "markdown",
      "metadata": {
        "id": "3-XLJdJDDkzn"
      },
      "source": [
        "#**THE PASSES**"
      ]
    },
    {
      "cell_type": "code",
      "execution_count": null,
      "metadata": {
        "id": "1JqJg9-fpFJl"
      },
      "outputs": [],
      "source": [
        "def forward_pass(input,W,B,N):\n",
        "  return tf.nn.relu(np.add(np.dot(input,W[N]),B[N]))"
      ]
    },
    {
      "cell_type": "code",
      "execution_count": null,
      "metadata": {
        "id": "fLOUzKzQD1pM"
      },
      "outputs": [],
      "source": [
        "def backward_pass(actual_output,pred_output,output,W,B,N,learning_rate):\n",
        "  if N==0:\n",
        "    return 0\n",
        "  print(\"THE LAYER:\",N,end=\" \")\n",
        "  error = np.subtract(actual_output,pred_output)\n",
        "  gradient_decent = pred_output * (1 - pred_output)\n",
        "  delta = error * gradient_decent * learning_rate\n",
        "  B[N] = np.add(B[N],delta)\n",
        "  W[N] = np.add(W[N],np.dot(tf.transpose(output[N-1]),delta))\n",
        "  prev_actual_output = [[0 for x in range(len(output[N-1][0]))]]\n",
        "  for i in range(len(delta[0])):\n",
        "    temp = []\n",
        "    for j in range(len(output[N-1][0])):\n",
        "      temp.append(output[N-1][0][j] * (1-output[N-1][0][j]) * delta[0][i])\n",
        "    prev_actual_output = np.add(prev_actual_output,temp)\n",
        "  print(\"Moving to shape :\",np.shape(prev_actual_output))\n",
        "  backward_pass(prev_actual_output,output[N-1],output,W,B,N-1,learning_rate)"
      ]
    },
    {
      "cell_type": "code",
      "execution_count": null,
      "metadata": {
        "id": "pSUTCFR1p7Jd"
      },
      "outputs": [],
      "source": [
        "def send_input(input,W,B,n_layers):\n",
        "  for i in range(n_layers):\n",
        "    if i==0:\n",
        "      output.append(forward_pass(input,W,B,i))\n",
        "    else:\n",
        "      output.append(forward_pass(output[i-1],W,B,i))\n",
        "    print(\"PAssed layer :\",i)\n"
      ]
    },
    {
      "cell_type": "markdown",
      "metadata": {
        "id": "atakwnzOEoAl"
      },
      "source": [
        "#**DEBUGGER**"
      ]
    },
    {
      "cell_type": "code",
      "execution_count": null,
      "metadata": {
        "colab": {
          "base_uri": "https://localhost:8080/"
        },
        "id": "aBKACwhgEt3_",
        "outputId": "10f4403c-c8ef-49b1-f7b6-eea74e39f73d"
      },
      "outputs": [
        {
          "name": "stdout",
          "output_type": "stream",
          "text": [
            "[]\n",
            "#######################################################################################\n",
            "[]\n",
            "#######################################################################################\n",
            "[]\n",
            "#######################################################################################\n",
            "[1, 0, 0]\n"
          ]
        }
      ],
      "source": [
        "print(output)\n",
        "print(\"#######################################################################################\")\n",
        "print(W)\n",
        "print(\"#######################################################################################\")\n",
        "print(B)\n",
        "print(\"#######################################################################################\")\n",
        "print(actual_output)"
      ]
    },
    {
      "cell_type": "markdown",
      "metadata": {
        "id": "6aMhRIBND78y"
      },
      "source": [
        "# **Prediction**"
      ]
    },
    {
      "cell_type": "code",
      "execution_count": null,
      "metadata": {
        "id": "i9QNzy-l_8k4"
      },
      "outputs": [],
      "source": [
        "def predit(input,W,B,n_layers):\n",
        "  for i in range(n_layers):\n",
        "    if i==0:\n",
        "      pred_output.append(forward_pass(input,W,B,i))\n",
        "    else:\n",
        "      pred_output.append(forward_pass(pred_output[i-1],W,B,i))\n",
        "  return pred_output[n_layers-1]"
      ]
    },
    {
      "cell_type": "code",
      "execution_count": null,
      "metadata": {
        "id": "zNUMMlhKlf30"
      },
      "outputs": [],
      "source": []
    }
  ],
  "metadata": {
    "colab": {
      "provenance": [],
      "mount_file_id": "1pdl9KXAU6Dtvt8I3r-jX-CmuobrFbzry",
      "authorship_tag": "ABX9TyO7I4nJb3Z3vtYDLppuvqeO"
    },
    "kernelspec": {
      "display_name": "Python 3",
      "name": "python3"
    },
    "language_info": {
      "name": "python"
    }
  },
  "nbformat": 4,
  "nbformat_minor": 0
}